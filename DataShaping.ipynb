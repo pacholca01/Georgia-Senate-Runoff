{
 "cells": [
  {
   "cell_type": "code",
   "execution_count": 110,
   "id": "ea0e3aec",
   "metadata": {},
   "outputs": [
    {
     "name": "stdout",
     "output_type": "stream",
     "text": [
      "                  0  1    2\n",
      "0    Appling County  1    1\n",
      "1             0.195  2    1\n",
      "2              1222  3    1\n",
      "3             0.805  4    1\n",
      "4              5043  5    1\n",
      "..              ... ..  ...\n",
      "949           0.257  2  159\n",
      "950            1759  3  159\n",
      "951           0.743  4  159\n",
      "952            5096  5  159\n",
      "953            0.99  6  159\n",
      "\n",
      "[954 rows x 3 columns]\n"
     ]
    }
   ],
   "source": [
    "import pandas as pd\n",
    "\n",
    "# Path to the XLSX file\n",
    "xlsx_file = 'RunOffResults.xlsx'\n",
    "\n",
    "# Read the XLSX file into a dataframe, specifying the sheet name\n",
    "df = pd.read_excel(xlsx_file, sheet_name='Sheet1', header=None)\n",
    "\n",
    "# Print the dataframe\n",
    "print(df)\n",
    "\n",
    "# Rename the \"Score1\" and \"Score2\" columns\n",
    "df = df.rename(columns={0: 'Values', 1: 'Columns', 2: 'Index'})\n"
   ]
  },
  {
   "cell_type": "code",
   "execution_count": 111,
   "id": "0710a9d7",
   "metadata": {},
   "outputs": [
    {
     "name": "stdout",
     "output_type": "stream",
     "text": [
      "             Values  Columns  Index\n",
      "0    Appling County        1      1\n",
      "1             0.195        2      1\n",
      "2              1222        3      1\n",
      "3             0.805        4      1\n",
      "4              5043        5      1\n",
      "..              ...      ...    ...\n",
      "949           0.257        2    159\n",
      "950            1759        3    159\n",
      "951           0.743        4    159\n",
      "952            5096        5    159\n",
      "953            0.99        6    159\n",
      "\n",
      "[954 rows x 3 columns]\n"
     ]
    }
   ],
   "source": [
    "# Print the dataframe\n",
    "print(df)"
   ]
  },
  {
   "cell_type": "code",
   "execution_count": 112,
   "id": "13305653",
   "metadata": {
    "scrolled": true
   },
   "outputs": [
    {
     "name": "stdout",
     "output_type": "stream",
     "text": [
      "Columns                1      2      3      4      5     6\n",
      "Index                                                     \n",
      "1         Appling County  0.195   1222  0.805   5043  0.99\n",
      "2        Atkinson County  0.241    485  0.759   1524  0.99\n",
      "3           Bacon County  0.126    440  0.874   3047  0.99\n",
      "4           Baker County  0.424    480  0.576    651  0.99\n",
      "5         Baldwin County  0.506   7007  0.494   6854  0.99\n",
      "6           Banks County  0.107    698  0.893   5828  0.99\n",
      "7          Barrow County  0.293   7449  0.707  17945  0.99\n",
      "8          Bartow County  0.242   8546  0.758  26739  0.99\n",
      "9        Ben Hill County  0.362   1718  0.638   3022  0.99\n",
      "10        Berrien County  0.152    843  0.848   4706  0.99\n",
      "11           Bibb County  0.627  30744  0.373  18318  0.99\n",
      "12       Bleckley County  0.226   1011  0.774   3456  0.99\n"
     ]
    }
   ],
   "source": [
    "# Reshape the dataframe so that each row is ranked 1-5 and separated into columns based on rank\n",
    "df_wide = df.pivot(index='Index', columns='Columns', values='Values')\n",
    "\n",
    "# Print the reshaped dataframe\n",
    "print(df_wide.head(12))"
   ]
  },
  {
   "cell_type": "code",
   "execution_count": 113,
   "id": "e58980bc",
   "metadata": {},
   "outputs": [
    {
     "name": "stdout",
     "output_type": "stream",
     "text": [
      "Columns            County Warnock % Warnock Walker % Walker Perct. Counted\n",
      "Index                                                                     \n",
      "1          Appling County     0.195    1222    0.805   5043           0.99\n",
      "2         Atkinson County     0.241     485    0.759   1524           0.99\n",
      "3            Bacon County     0.126     440    0.874   3047           0.99\n",
      "4            Baker County     0.424     480    0.576    651           0.99\n",
      "5          Baldwin County     0.506    7007    0.494   6854           0.99\n",
      "...                   ...       ...     ...      ...    ...            ...\n",
      "155      Whitfield County     0.255    6055    0.745  17716           0.99\n",
      "156         Wilcox County     0.258     615    0.742   1765           0.99\n",
      "157         Wilkes County     0.419    1609    0.581   2228           0.99\n",
      "158      Wilkinson County     0.444    1678    0.556   2105           0.99\n",
      "159          Worth County     0.257    1759    0.743   5096           0.99\n",
      "\n",
      "[159 rows x 6 columns]\n"
     ]
    }
   ],
   "source": [
    "df_wide = df_wide.rename(columns={1:'County', 2: 'Warnock %', 3:'Warnock', 4:'Walker %', 5:'Walker', 6:'Perct. Counted' })\n",
    "\n",
    "# Print the reshaped dataframe\n",
    "print(df_wide)"
   ]
  },
  {
   "cell_type": "code",
   "execution_count": 114,
   "id": "327f2f3a",
   "metadata": {},
   "outputs": [
    {
     "name": "stdout",
     "output_type": "stream",
     "text": [
      "Columns            County Warnock Walker\n",
      "Index                                   \n",
      "1          Appling County    1222   5043\n",
      "2         Atkinson County     485   1524\n",
      "3            Bacon County     440   3047\n",
      "4            Baker County     480    651\n",
      "5          Baldwin County    7007   6854\n",
      "...                   ...     ...    ...\n",
      "155      Whitfield County    6055  17716\n",
      "156         Wilcox County     615   1765\n",
      "157         Wilkes County    1609   2228\n",
      "158      Wilkinson County    1678   2105\n",
      "159          Worth County    1759   5096\n",
      "\n",
      "[159 rows x 3 columns]\n"
     ]
    }
   ],
   "source": [
    "df_wide = df_wide.drop(columns=['Perct. Counted', 'Warnock %', 'Walker %'])\n",
    "                       \n",
    "# Print the reshaped dataframe\n",
    "print(df_wide)"
   ]
  },
  {
   "cell_type": "code",
   "execution_count": 115,
   "id": "4bfbf5cf",
   "metadata": {},
   "outputs": [
    {
     "name": "stdout",
     "output_type": "stream",
     "text": [
      "Columns          Warnock Walker\n",
      "County                         \n",
      "Appling County      1222   5043\n",
      "Atkinson County      485   1524\n",
      "Bacon County         440   3047\n",
      "Baker County         480    651\n",
      "Baldwin County      7007   6854\n",
      "...                  ...    ...\n",
      "Whitfield County    6055  17716\n",
      "Wilcox County        615   1765\n",
      "Wilkes County       1609   2228\n",
      "Wilkinson County    1678   2105\n",
      "Worth County        1759   5096\n",
      "\n",
      "[159 rows x 2 columns]\n"
     ]
    }
   ],
   "source": [
    "df_wide = df_wide.set_index('County')\n",
    "\n",
    "\n",
    "# Print the reshaped dataframe\n",
    "print(df_wide)"
   ]
  },
  {
   "cell_type": "code",
   "execution_count": 116,
   "id": "8611f425",
   "metadata": {},
   "outputs": [
    {
     "name": "stdout",
     "output_type": "stream",
     "text": [
      "County            Columns\n",
      "Appling County    Warnock    1222\n",
      "                  Walker     5043\n",
      "Atkinson County   Warnock     485\n",
      "                  Walker     1524\n",
      "Bacon County      Warnock     440\n",
      "                             ... \n",
      "Wilkes County     Walker     2228\n",
      "Wilkinson County  Warnock    1678\n",
      "                  Walker     2105\n",
      "Worth County      Warnock    1759\n",
      "                  Walker     5096\n",
      "Length: 318, dtype: object\n"
     ]
    }
   ],
   "source": [
    "df_long = df_wide.stack()\n",
    "\n",
    "# Print the reshaped dataframe\n",
    "print(df_long)"
   ]
  },
  {
   "cell_type": "code",
   "execution_count": 118,
   "id": "e73221ed",
   "metadata": {},
   "outputs": [],
   "source": [
    "df_long.to_csv('Runoff_Election_Results2.csv')"
   ]
  },
  {
   "cell_type": "code",
   "execution_count": null,
   "id": "ae074ad4",
   "metadata": {},
   "outputs": [],
   "source": []
  }
 ],
 "metadata": {
  "kernelspec": {
   "display_name": "Python 3",
   "language": "python",
   "name": "python3"
  },
  "language_info": {
   "codemirror_mode": {
    "name": "ipython",
    "version": 3
   },
   "file_extension": ".py",
   "mimetype": "text/x-python",
   "name": "python",
   "nbconvert_exporter": "python",
   "pygments_lexer": "ipython3",
   "version": "3.10.4 (v3.10.4:9d38120e33, Mar 23 2022, 17:29:05) [Clang 13.0.0 (clang-1300.0.29.30)]"
  },
  "vscode": {
   "interpreter": {
    "hash": "aee8b7b246df8f9039afb4144a1f6fd8d2ca17a180786b69acc140d282b71a49"
   }
  }
 },
 "nbformat": 4,
 "nbformat_minor": 5
}
